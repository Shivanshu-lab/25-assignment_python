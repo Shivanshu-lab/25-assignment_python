{
 "cells": [
  {
   "cell_type": "markdown",
   "id": "101dae64-5923-4332-aa4b-64373f71ab7d",
   "metadata": {},
   "source": [
    "1. Write a Python program to print &quot;Hello Python&quot;?\n"
   ]
  },
  {
   "cell_type": "code",
   "execution_count": 4,
   "id": "ad5ca3cd-6ca5-42f8-9d8e-027047bfb8a4",
   "metadata": {},
   "outputs": [
    {
     "name": "stdin",
     "output_type": "stream",
     "text": [
      "enter your string: hello python\n"
     ]
    },
    {
     "name": "stdout",
     "output_type": "stream",
     "text": [
      "Hello python\n"
     ]
    }
   ],
   "source": [
    "def Printer(text): \n",
    "    return text.capitalize() \n",
    "def main(): \n",
    "    try:\n",
    "        text=input(\"enter your string:\") \n",
    "        result=Printer(text) \n",
    "        print(result) \n",
    "    except ValueError: \n",
    "        print(\"Invalid input, enter valid input(string)\") \n",
    "    except Exception as e:\n",
    "        print(\"An unncesessary error occured\") \n",
    "if __name__==\"__main__\": \n",
    "    main()"
   ]
  },
  {
   "cell_type": "markdown",
   "id": "f6782ea0-2a3c-42a6-ae18-86d14404db0c",
   "metadata": {},
   "source": [
    "2. Write a Python program to do arithmetical operations addition and division.?"
   ]
  },
  {
   "cell_type": "code",
   "execution_count": 6,
   "id": "9fe7af4b-2bbf-42c0-9265-32d0da7a798e",
   "metadata": {},
   "outputs": [
    {
     "name": "stdin",
     "output_type": "stream",
     "text": [
      "enter your number1: 81\n",
      "enter your number2: 7\n"
     ]
    },
    {
     "name": "stdout",
     "output_type": "stream",
     "text": [
      "Expected Output=Addition of 81+7=88 and Division of 81/7=11.571428571428571\n"
     ]
    }
   ],
   "source": [
    "def Arithemical_operation(a,b): \n",
    "    addition=a+b \n",
    "    if b!=0: \n",
    "        division=a/b \n",
    "    return f\"Addition of {a}+{b}={addition} and Division of {a}/{b}={division}\" \n",
    "def main(): \n",
    "    try:\n",
    "        a=int(input(\"enter your number1:\"))\n",
    "        b=int(input(\"enter your number2:\")) \n",
    "        result=Arithemical_operation(a,b)\n",
    "        print(f\"Expected Output={result}\") \n",
    "    except ValueError: \n",
    "        print(\"Invalid input, enter valid input(string)\") \n",
    "    except Exception as e:\n",
    "        print(\"An unncesessary error occured\") \n",
    "if __name__==\"__main__\": \n",
    "    main()"
   ]
  },
  {
   "cell_type": "markdown",
   "id": "7e7ac349-105c-479e-905e-eb00369605b6",
   "metadata": {},
   "source": [
    "3. Write a Python program to find the area of a triangle?"
   ]
  },
  {
   "cell_type": "code",
   "execution_count": 7,
   "id": "7cb86a0b-b17e-4e66-95ff-d1eab2740ec9",
   "metadata": {},
   "outputs": [
    {
     "name": "stdin",
     "output_type": "stream",
     "text": [
      "enter your number1: 8\n",
      "enter your number2: 9\n"
     ]
    },
    {
     "name": "stdout",
     "output_type": "stream",
     "text": [
      "Expected Output=Area of triangle is 36.0\n"
     ]
    }
   ],
   "source": [
    "def Area_triangle(a,b): \n",
    "    return f\"Area of triangle is {a*b*0.5}\" \n",
    "def main(): \n",
    "    try:\n",
    "        a=int(input(\"enter your number1:\"))\n",
    "        b=int(input(\"enter your number2:\")) \n",
    "        result=Area_triangle(a,b)\n",
    "        print(f\"Expected Output={result}\") \n",
    "    except ValueError: \n",
    "        print(\"Invalid input, enter valid input(string)\") \n",
    "    except Exception as e:\n",
    "        print(\"An unncesessary error occured\") \n",
    "if __name__==\"__main__\": \n",
    "    main()"
   ]
  },
  {
   "cell_type": "markdown",
   "id": "3ad345e2-70b8-476a-aa05-541df0364c2b",
   "metadata": {},
   "source": [
    "4. Write a Python program to swap two variables?"
   ]
  },
  {
   "cell_type": "code",
   "execution_count": 9,
   "id": "6b9c2467-ecfd-445c-8bab-031258d62e07",
   "metadata": {},
   "outputs": [
    {
     "name": "stdin",
     "output_type": "stream",
     "text": [
      "enter value of a: 5\n",
      "enter value of b: 9\n"
     ]
    },
    {
     "name": "stdout",
     "output_type": "stream",
     "text": [
      "Expected Output=Value after swap is a=9,b=5\n"
     ]
    }
   ],
   "source": [
    "def swap_value(a,b):\n",
    "    a,b=b,a\n",
    "    return f\"Value after swap is a={a},b={b}\" \n",
    "def main(): \n",
    "    try:\n",
    "        a=int(input(\"enter value of a:\"))\n",
    "        b=int(input(\"enter value of b:\")) \n",
    "        result=swap_value(a,b)\n",
    "        print(f\"Expected Output={result}\") \n",
    "    except ValueError: \n",
    "        print(\"Invalid input, enter valid input(string)\") \n",
    "    except Exception as e:\n",
    "        print(\"An unncesessary error occured\") \n",
    "if __name__==\"__main__\": \n",
    "    main()"
   ]
  },
  {
   "cell_type": "markdown",
   "id": "799fea9b-1aa4-4c50-bf4c-71e9999fccba",
   "metadata": {},
   "source": [
    "5. Write a Python program to generate a random number?"
   ]
  },
  {
   "cell_type": "code",
   "execution_count": null,
   "id": "f2b19fac-6953-444b-ba26-5efd7c7bc01c",
   "metadata": {},
   "outputs": [],
   "source": [
    "def random_number_generator(a,b): \n",
    "    import random \n",
    "    random_numb=random.randint(a,b) \n",
    "    return random_numb\n",
    "def main(): \n",
    "    try:\n",
    "        a=int(input(\"enter value of a:\"))\n",
    "        b=int(input(\"enter value of b:\")) \n",
    "        result=random_number_generator(a,b)\n",
    "        print(f\"Expected Output={result}\") \n",
    "    except ValueError: \n",
    "        print(\"Invalid input, enter valid input(string)\") \n",
    "    except Exception as e:\n",
    "        print(\"An unncesessary error occured\") \n",
    "if __name__==\"__main__\": \n",
    "    main()"
   ]
  },
  {
   "cell_type": "code",
   "execution_count": null,
   "id": "ac1a165f-29be-4564-b28f-54d9496dfec1",
   "metadata": {},
   "outputs": [],
   "source": []
  }
 ],
 "metadata": {
  "kernelspec": {
   "display_name": "Python [conda env:base] *",
   "language": "python",
   "name": "conda-base-py"
  },
  "language_info": {
   "codemirror_mode": {
    "name": "ipython",
    "version": 3
   },
   "file_extension": ".py",
   "mimetype": "text/x-python",
   "name": "python",
   "nbconvert_exporter": "python",
   "pygments_lexer": "ipython3",
   "version": "3.13.5"
  }
 },
 "nbformat": 4,
 "nbformat_minor": 5
}
