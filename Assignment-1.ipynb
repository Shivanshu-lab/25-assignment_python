{
 "cells": [
  {
   "cell_type": "code",
   "execution_count": 1,
   "id": "2a4cc33a-63f6-48be-9bd0-50178aa95ca0",
   "metadata": {},
   "outputs": [],
   "source": [
    "# Write a Python program to print \"Hello Python\"? \n",
    "def Print(text): \n",
    "    print(text)"
   ]
  },
  {
   "cell_type": "code",
   "execution_count": 2,
   "id": "627d3d88-17a7-4a0d-9166-59825f4020cf",
   "metadata": {},
   "outputs": [
    {
     "name": "stdout",
     "output_type": "stream",
     "text": [
      "hello python\n"
     ]
    }
   ],
   "source": [
    "Print(\"hello python\")"
   ]
  },
  {
   "cell_type": "code",
   "execution_count": 3,
   "id": "bb4c3dab-4683-4e09-b013-d17d21eab768",
   "metadata": {},
   "outputs": [],
   "source": [
    "# Write a Python program to do arithmetical operations addition and division.? \n",
    "def arithemetical():\n",
    "    num1=float(input(\"enter your number1 :\"))\n",
    "    num2=float(input(\"enter your number2 :\")) \n",
    "    addition=num1+num2 \n",
    "    print(addition) \n",
    "    if num2 != 0:\n",
    "        div=num1/num2 \n",
    "        print(div)"
   ]
  },
  {
   "cell_type": "code",
   "execution_count": 4,
   "id": "1102971e-4240-442d-bc4d-e340067bad1c",
   "metadata": {},
   "outputs": [
    {
     "name": "stdin",
     "output_type": "stream",
     "text": [
      "enter your number1 : 8\n",
      "enter your number2 : 9\n"
     ]
    },
    {
     "name": "stdout",
     "output_type": "stream",
     "text": [
      "17.0\n",
      "0.8888888888888888\n"
     ]
    }
   ],
   "source": [
    "arithemetical()"
   ]
  },
  {
   "cell_type": "code",
   "execution_count": 5,
   "id": "699a7441-5a2d-422a-bca8-9dc5e8384220",
   "metadata": {},
   "outputs": [],
   "source": [
    "# Write a Python program to find the area of a triangle? \n",
    "def area(): \n",
    "    num1=float(input(\"enter your number1 :\"))\n",
    "    num2=float(input(\"enter your number2 :\"))  \n",
    "    triangle=(num1*num2) / 2 \n",
    "    print(triangle)"
   ]
  },
  {
   "cell_type": "code",
   "execution_count": 6,
   "id": "a43b72ec-5201-4440-8565-6e00a9b56db7",
   "metadata": {},
   "outputs": [
    {
     "name": "stdin",
     "output_type": "stream",
     "text": [
      "enter your number1 : 4\n",
      "enter your number2 : 6\n"
     ]
    },
    {
     "name": "stdout",
     "output_type": "stream",
     "text": [
      "12.0\n"
     ]
    }
   ],
   "source": [
    "area()"
   ]
  },
  {
   "cell_type": "code",
   "execution_count": 8,
   "id": "b644e367-853e-4776-87b0-4cb1f999473f",
   "metadata": {},
   "outputs": [],
   "source": [
    "# Write a Python program to swap two variables? \n",
    "def swap():\n",
    "    a=int(input(\"value of a :\"))\n",
    "    b=int(input(\"value of b :\"))\n",
    "    print(\"value before swapping is\",\"a=\",a,\"b=\",b) \n",
    "    a,b=b,a \n",
    "    print(\"value after swapping is\",\"a=\",a,\"b=\",b)\n"
   ]
  },
  {
   "cell_type": "code",
   "execution_count": 9,
   "id": "dfa18566-919a-4c60-869b-91de55e05806",
   "metadata": {},
   "outputs": [
    {
     "name": "stdin",
     "output_type": "stream",
     "text": [
      "value of a : 77\n",
      "value of b : 88\n"
     ]
    },
    {
     "name": "stdout",
     "output_type": "stream",
     "text": [
      "value before swapping is a= 77 b= 88\n",
      "value after swapping is a= 88 b= 77\n"
     ]
    }
   ],
   "source": [
    "swap()"
   ]
  },
  {
   "cell_type": "code",
   "execution_count": 3,
   "id": "49042ec1-9dca-43c7-8403-2310addfd531",
   "metadata": {},
   "outputs": [
    {
     "ename": "_IncompleteInputError",
     "evalue": "incomplete input (1399636341.py, line 2)",
     "output_type": "error",
     "traceback": [
      "\u001b[1;36m  Cell \u001b[1;32mIn[3], line 2\u001b[1;36m\u001b[0m\n\u001b[1;33m    def random_number_generator():\u001b[0m\n\u001b[1;37m                                   ^\u001b[0m\n\u001b[1;31m_IncompleteInputError\u001b[0m\u001b[1;31m:\u001b[0m incomplete input\n"
     ]
    }
   ],
   "source": [
    "# Write a Python program to generate a random number? \n",
    "def random_number_generator():\n",
    "    import random \n",
    "    a=int(input(\"enter your number1 :\"))\n",
    "    b=int(input(\"enter your number2:\"))\n",
    "    random_number=random.randint(a,b) \n",
    "    \n"
   ]
  },
  {
   "cell_type": "code",
   "execution_count": null,
   "id": "29daaeb5-0e17-46d5-a57e-f161f9d2a3b7",
   "metadata": {},
   "outputs": [],
   "source": []
  },
  {
   "cell_type": "code",
   "execution_count": null,
   "id": "9450bebb-d99d-4cf8-a439-339173475fbe",
   "metadata": {},
   "outputs": [],
   "source": []
  }
 ],
 "metadata": {
  "kernelspec": {
   "display_name": "Python [conda env:base] *",
   "language": "python",
   "name": "conda-base-py"
  },
  "language_info": {
   "codemirror_mode": {
    "name": "ipython",
    "version": 3
   },
   "file_extension": ".py",
   "mimetype": "text/x-python",
   "name": "python",
   "nbconvert_exporter": "python",
   "pygments_lexer": "ipython3",
   "version": "3.13.5"
  }
 },
 "nbformat": 4,
 "nbformat_minor": 5
}
